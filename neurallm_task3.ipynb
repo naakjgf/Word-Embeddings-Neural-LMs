{
 "cells": [
  {
   "cell_type": "markdown",
   "metadata": {},
   "source": [
    "Homework 5: Neural Language Models  (& 🎃 SpOoKy 👻 authors 🧟 data) - Task 3\n",
    "---\n",
    "Names: Kaan Tural, Arinjay Singh"
   ]
  },
  {
   "cell_type": "markdown",
   "metadata": {},
   "source": [
    "Task 3: Feedforward Neural Language Model (60 points)\n",
    "--------------------------\n",
    "\n",
    "For this task, you will create and train neural LMs for both your word-based embeddings and your character-based ones. You should write functions when appropriate to avoid excessive copy+pasting."
   ]
  },
  {
   "cell_type": "markdown",
   "metadata": {},
   "source": [
    "### a) First, encode  your text into integers (5 points)"
   ]
  },
  {
   "cell_type": "code",
   "execution_count": 16,
   "metadata": {},
   "outputs": [],
   "source": [
    "# Importing utility functions from Keras\n",
    "import keras\n",
    "from keras.preprocessing.text import Tokenizer\n",
    "from keras.utils import to_categorical\n",
    "\n",
    "# necessary\n",
    "from keras.models import Sequential\n",
    "from keras.layers import Dense\n",
    "\n",
    "# optional\n",
    "# from keras.layers import Dropout\n",
    "\n",
    "# if you want fancy progress bars\n",
    "from tqdm import notebook\n",
    "from IPython.display import display\n",
    "\n",
    "# your other imports here\n",
    "import time\n",
    "import neurallm_utils as nutils\n",
    "import numpy as np\n",
    "import pandas as pd\n",
    "from gensim.models import KeyedVectors\n"
   ]
  },
  {
   "cell_type": "code",
   "execution_count": 19,
   "metadata": {},
   "outputs": [],
   "source": [
    "# load in necessary data\n",
    "\n",
    "TRAIN_FILE = 'spooky_author_train.csv'\n",
    "\n",
    "train = pd.read_csv(TRAIN_FILE)\n",
    "# read the data in both by character and by word\n",
    "\n",
    "modelChar = KeyedVectors.load_word2vec_format('spooky_embedding_char.txt', binary=False)\n",
    "modelWord = KeyedVectors.load_word2vec_format('spooky_embedding_word.txt', binary=False)"
   ]
  },
  {
   "cell_type": "code",
   "execution_count": 20,
   "metadata": {},
   "outputs": [],
   "source": [
    "# constants you may find helpful. Edit as you would like.\n",
    "EMBEDDINGS_SIZE = 50\n",
    "NGRAM = 3 # The ngram language model you want to train\n",
    "\n",
    "by_char = nutils.read_file_spooky(TRAIN_FILE, NGRAM, by_character=True)\n",
    "by_word = nutils.read_file_spooky(TRAIN_FILE, NGRAM, by_character=False)"
   ]
  },
  {
   "cell_type": "code",
   "execution_count": 21,
   "metadata": {},
   "outputs": [],
   "source": [
    "# Initialize a Tokenizer and fit on your data\n",
    "# do this for both the word and character data\n",
    "\n",
    "# It is used to vectorize a text corpus. Here, it just creates a mapping from \n",
    "# word to a unique index. (Note: Indexing starts from 0)\n",
    "# Example:\n",
    "# tokenizer = Tokenizer()\n",
    "# tokenizer.fit_on_texts(data)\n",
    "# encoded = tokenizer.texts_to_sequences(data)\n",
    "\n",
    "tokenizer_char = Tokenizer(char_level=True)\n",
    "tokenizer_word = Tokenizer()\n",
    "\n",
    "tokenizer_char.fit_on_texts(by_char)\n",
    "tokenizer_word.fit_on_texts(by_word)\n",
    "\n",
    "encoded_char = tokenizer_char.texts_to_sequences(by_char)\n",
    "encoded_word = tokenizer_word.texts_to_sequences(by_word)"
   ]
  },
  {
   "cell_type": "code",
   "execution_count": 27,
   "metadata": {},
   "outputs": [
    {
     "name": "stdout",
     "output_type": "stream",
     "text": [
      "Size of word index for character tokenizer: 60\n",
      "Size of word index for word tokenizer: 25374 \n",
      "\n",
      "Size of word index for character embeddings: 60\n",
      "Size of word index for word embeddings: 25374\n"
     ]
    }
   ],
   "source": [
    "# print out the size of the word index for each of your tokenizers\n",
    "# this should match what you calculated in Task 2 with your embeddings\n",
    "\n",
    "print('Size of word index for character tokenizer:', len(tokenizer_char.word_index))\n",
    "print('Size of word index for word tokenizer:', len(tokenizer_word.word_index), \"\\n\")\n",
    "\n",
    "#Embeddings from task 2 size\n",
    "print('Size of word index for character embeddings:', len(modelChar.index_to_key))\n",
    "print('Size of word index for word embeddings:', len(modelWord.index_to_key))"
   ]
  },
  {
   "cell_type": "markdown",
   "metadata": {},
   "source": [
    "### b) Next, prepare the sequences to train your model from text (5 points)"
   ]
  },
  {
   "cell_type": "markdown",
   "metadata": {},
   "source": [
    "#### Fixed n-gram based sequences"
   ]
  },
  {
   "cell_type": "raw",
   "metadata": {},
   "source": [
    "The training samples will be structured in the following format. \n",
    "Depening on which ngram model we choose, there will be (n-1) tokens \n",
    "in the input sequence (X) and we will need to predict the nth token (Y)\n",
    "\n",
    "            X,\t\t\t\t\t\t                       y\n",
    "    this,    process                                    however\n",
    "    process, however                                    afforded\n",
    "    however, afforded\t                                me\n",
    "\n",
    "\n",
    "Our first step is to translate the text into sequences of numbers, \n",
    "one sequence per n-gram window."
   ]
  },
  {
   "cell_type": "code",
   "execution_count": 30,
   "metadata": {},
   "outputs": [
    {
     "name": "stdout",
     "output_type": "stream",
     "text": [
      "\n",
      "number of sequences for character data: 2996709\n",
      "First 5 training samples for character data:\n",
      "[21, 21, 3]\n",
      "[21, 3, 9]\n",
      "[3, 9, 7]\n",
      "[9, 7, 8]\n",
      "[7, 8, 1]\n",
      "\n",
      "number of sequences for word data: 673236\n",
      "First 5 training samples for word data:\n",
      "[1, 1, 32]\n",
      "[1, 32, 2956]\n",
      "[32, 2956, 3]\n",
      "[2956, 3, 155]\n",
      "[3, 155, 3]\n"
     ]
    }
   ],
   "source": [
    "def generate_ngram_training_samples(encoded: list, ngram: int) -> list:\n",
    "    '''\n",
    "    Takes the encoded data (list of lists) and \n",
    "    generates the training samples out of it.\n",
    "    Parameters:\n",
    "    up to you, we've put in what we used\n",
    "    but you can add/remove as needed\n",
    "    return: \n",
    "    list of lists in the format [[x1, x2, ... , x(n-1), y], ...]\n",
    "    '''\n",
    "    \n",
    "    # Initialize an empty list to store the training samples\n",
    "    training_samples = []\n",
    "    \n",
    "    # Loop over the encoded data to generate samples\n",
    "    for i in range(len(encoded) - ngram + 1):\n",
    "        # Extract the n-gram sequence from the current position\n",
    "        ngram_sequence = encoded[i:i+ngram]\n",
    "        # Add the extracted sequence to the training samples\n",
    "        training_samples.append(ngram_sequence)\n",
    "    \n",
    "    return training_samples\n",
    "\n",
    "# generate your training samples for both word and character data\n",
    "# print out the first 5 training samples for each\n",
    "# we have displayed the number of sequences\n",
    "# to expect for both characters and words\n",
    "#\n",
    "# Spooky data by character should give 2957553 sequences\n",
    "# [21, 21, 3]\n",
    "# [21, 3, 9]\n",
    "# [3, 9, 7]\n",
    "# ...\n",
    "# Spooky data by words shoud give 634080 sequences\n",
    "# [1, 1, 32]\n",
    "# [1, 32, 2956]\n",
    "# [32, 2956, 3]\n",
    "# ...\n",
    "\n",
    "# flatten the encoded lists since they are in the form of list of lists after encoding\n",
    "encoded_char_flat = [token for sublist in encoded_char for token in sublist]\n",
    "encoded_word_flat = [token for sublist in encoded_word for token in sublist]\n",
    "\n",
    "training_samples_char = generate_ngram_training_samples(encoded_char_flat, NGRAM)\n",
    "training_samples_word = generate_ngram_training_samples(encoded_word_flat, NGRAM)\n",
    "\n",
    "print (\"\\nnumber of sequences for character data:\", len(training_samples_char))\n",
    "print(\"First 5 training samples for character data:\")\n",
    "for sample in training_samples_char[:5]:\n",
    "    print(sample)\n",
    "\n",
    "print(\"\\nnumber of sequences for word data:\", len(training_samples_word))\n",
    "print(\"First 5 training samples for word data:\")\n",
    "for sample in training_samples_word[:5]:\n",
    "    print(sample)"
   ]
  },
  {
   "cell_type": "markdown",
   "metadata": {},
   "source": [
    "### c) Then, split the sequences into X and y and create a Data Generator (20 points)"
   ]
  },
  {
   "cell_type": "code",
   "execution_count": 36,
   "metadata": {},
   "outputs": [
    {
     "name": "stdout",
     "output_type": "stream",
     "text": [
      "\n",
      "Shape of X_char: (2996709, 2)\n",
      "Shape of y_char: (2996709,)\n",
      "Shape of X_word: (673236, 2)\n",
      "Shape of y_word: (673236,)\n",
      "\n",
      "First 5 X_char: [[21, 21], [21, 3], [3, 9], [9, 7], [7, 8]]\n",
      "First 5 y_char: [3, 9, 7, 8, 1]\n",
      "\n",
      "Shape of X_char: 2996709 Shape of y_char: 2996709\n",
      "Shape of X_word: 673236 Shape of y_word: 673236\n"
     ]
    }
   ],
   "source": [
    "# 2.5 points\n",
    "\n",
    "# Note here that the sequences were in the form: \n",
    "# sequence = [x1, x2, ... , x(n-1), y]\n",
    "# We still need to separate it into [[x1, x2, ... , x(n-1)], ...], [y1, y2, ...]]\n",
    "# do that here\n",
    "\n",
    "def split_sequences(sequences):\n",
    "    X = [sequence[:-1] for sequence in sequences]\n",
    "    y = [sequence[-1] for sequence in sequences]\n",
    "    return X, y\n",
    "\n",
    "X_char, y_char = split_sequences(training_samples_char)\n",
    "X_word, y_word = split_sequences(training_samples_word)\n",
    "\n",
    "# print out the shapes to verify that they are correct\n",
    "print(\"\\nShape of X_char:\", np.array(X_char).shape)\n",
    "print(\"Shape of y_char:\", np.array(y_char).shape)\n",
    "print(\"Shape of X_word:\", np.array(X_word).shape)\n",
    "print(\"Shape of y_word:\", np.array(y_word).shape)\n",
    "\n",
    "print(\"\\nFirst 5 X_char:\", X_char[:5])\n",
    "print(\"First 5 y_char:\", y_char[:5])\n",
    "\n",
    "print(\"\\nShape of X_char:\", len(X_char), \"Shape of y_char:\", len(y_char))\n",
    "print(\"Shape of X_word:\", len(X_word), \"Shape of y_word:\", len(y_word))"
   ]
  },
  {
   "cell_type": "code",
   "execution_count": 40,
   "metadata": {},
   "outputs": [
    {
     "name": "stdout",
     "output_type": "stream",
     "text": [
      "Character Embeddings:\n",
      "Word to Embedding Size: 60\n",
      "Index to Embedding Size: 60\n",
      "\n",
      "Word Embeddings:\n",
      "Word to Embedding Size: 25374\n",
      "Index to Embedding Size: 25374\n"
     ]
    }
   ],
   "source": [
    "# 2.5 points\n",
    "\n",
    "# Initialize a function that reads the word embeddings you saved earlier\n",
    "# and gives you back mappings from words to their embeddings and also \n",
    "# indexes from the tokenizers to their embeddings\n",
    "\n",
    "def read_embeddings(filename: str, tokenizer: Tokenizer) -> (dict, dict):\n",
    "    '''Loads and parses embeddings trained in earlier.\n",
    "    Parameters:\n",
    "        filename (str): path to file\n",
    "        Tokenizer: tokenizer used to tokenize the data (needed to get the word to index mapping)\n",
    "    Returns:\n",
    "        (dict): mapping from word to its embedding vector\n",
    "        (dict): mapping from index to its embedding vector\n",
    "    '''\n",
    "    # Load the model using KeyedVectors\n",
    "    model = KeyedVectors.load_word2vec_format(filename, binary=False)\n",
    "\n",
    "    # Initialize mappings\n",
    "    word_to_embedding = {}\n",
    "    index_to_embedding = {}\n",
    "\n",
    "    # Iterate over the tokenizer's word_index to populate the mappings\n",
    "    for word, index in tokenizer.word_index.items():\n",
    "        if word in model.key_to_index:  # Check if the word exists in the model\n",
    "            vector = model.get_vector(word)  # Retrieve the embedding vector\n",
    "            word_to_embedding[word] = vector\n",
    "            index_to_embedding[index] = vector\n",
    "\n",
    "    return word_to_embedding, index_to_embedding\n",
    "\n",
    "word_to_embedding_char, index_to_embedding_char = read_embeddings('spooky_embedding_char.txt', tokenizer_char)\n",
    "word_to_embedding_word, index_to_embedding_word = read_embeddings('spooky_embedding_word.txt', tokenizer_word)\n",
    "\n",
    "print(\"Character Embeddings:\")\n",
    "print(\"Word to Embedding Size:\", len(word_to_embedding_char))\n",
    "print(\"Index to Embedding Size:\", len(index_to_embedding_char))\n",
    "\n",
    "print(\"\\nWord Embeddings:\")\n",
    "print(\"Word to Embedding Size:\", len(word_to_embedding_word))\n",
    "print(\"Index to Embedding Size:\", len(index_to_embedding_word))\n"
   ]
  },
  {
   "cell_type": "code",
   "execution_count": null,
   "metadata": {},
   "outputs": [],
   "source": [
    "# NECESSARY FOR CHARACTERS\n",
    "\n",
    "# the \"0\" index of the Tokenizer is assigned for the padding token. Initialize\n",
    "# the vector for padding token as all zeros of embedding size\n",
    "# this adds one to the number of embeddings that were initially saved\n",
    "# (and increases your vocab size by 1)"
   ]
  },
  {
   "cell_type": "code",
   "execution_count": null,
   "metadata": {},
   "outputs": [],
   "source": [
    "# 10 points\n",
    "\n",
    "def data_generator(X: list, y: list, num_sequences_per_batch: int, index_2_embedding: dict) -> (list,list):\n",
    "    '''\n",
    "    Returns data generator to be used by feed_forward\n",
    "    https://wiki.python.org/moin/Generators\n",
    "    https://realpython.com/introduction-to-python-generators/\n",
    "    \n",
    "    Yields batches of embeddings and labels to go with them.\n",
    "    Use one hot vectors to encode the labels \n",
    "    (see the to_categorical function)\n",
    "    \n",
    "    Returns data generator to be used by feed_forward\n",
    "    '''\n",
    "    # YOUR CODE HERE\n",
    "    pass"
   ]
  },
  {
   "cell_type": "code",
   "execution_count": null,
   "metadata": {},
   "outputs": [],
   "source": [
    "# 5 points\n",
    "\n",
    "# initialize your data_generator for both word and character data\n",
    "# print out the shapes of the first batch to verify that it is correct for both word and character data\n",
    "\n",
    "# Examples:\n",
    "# num_sequences_per_batch = 128 # this is the batch size\n",
    "# steps_per_epoch = len(sequences)//num_sequences_per_batch  # Number of batches per epoch\n",
    "# train_generator = data_generator(X, y, num_sequences_per_batch)\n",
    "\n",
    "# sample=next(train_generator) # this is how you get data out of generators\n",
    "# sample[0].shape # (batch_size, (n-1)*EMBEDDING_SIZE)  (128, 200)\n",
    "# sample[1].shape   # (batch_size, |V|) to_categorical\n"
   ]
  },
  {
   "cell_type": "markdown",
   "metadata": {},
   "source": [
    "### d) Train & __save__ your models (15 points)"
   ]
  },
  {
   "cell_type": "code",
   "execution_count": null,
   "metadata": {},
   "outputs": [],
   "source": [
    "# 15 points \n",
    "\n",
    "# code to train a feedforward neural language model for \n",
    "# both word embeddings and character embeddings\n",
    "# make sure not to just copy + paste to train your two models\n",
    "# (define functions as needed)\n",
    "\n",
    "# train your models for between 3 & 5 epochs\n",
    "# on our machine, this takes ~ 24 min for character embeddings and ~ 10 min for word embeddings\n",
    "# DO NOT EXPECT ACCURACIES OVER 0.5 (and even that is very for this many epochs)\n",
    "# We recommend starting by training for 1 epoch\n",
    "\n",
    "# Define your model architecture using Keras Sequential API\n",
    "# Use the adam optimizer instead of sgd\n",
    "# add cells as desired\n",
    "\n"
   ]
  },
  {
   "cell_type": "code",
   "execution_count": null,
   "metadata": {},
   "outputs": [],
   "source": [
    "# Here is some example code to train a model with a data generator\n",
    "# model.fit(x=train_generator, \n",
    "#           steps_per_epoch=steps_per_epoch,\n",
    "#           epochs=1)"
   ]
  },
  {
   "cell_type": "code",
   "execution_count": null,
   "metadata": {},
   "outputs": [],
   "source": [
    "\n",
    "# spooky data model by character for 5 epochs takes ~ 24 min on our computer\n",
    "# with adam optimizer, gets accuracy of 0.3920\n",
    "\n",
    "# spooky data model by word for 5 epochs takes 10 min on our computer\n",
    "# results in accuracy of 0.2110\n"
   ]
  },
  {
   "cell_type": "code",
   "execution_count": null,
   "metadata": {},
   "outputs": [],
   "source": [
    "# save your trained models so you can re-load instead of re-training each time\n",
    "# also, you'll need these to generate your sentences!\n"
   ]
  },
  {
   "cell_type": "markdown",
   "metadata": {},
   "source": [
    "### e) Generate Sentences (15 points)"
   ]
  },
  {
   "cell_type": "code",
   "execution_count": null,
   "metadata": {},
   "outputs": [],
   "source": [
    "# load your models if you need to\n"
   ]
  },
  {
   "cell_type": "code",
   "execution_count": null,
   "metadata": {},
   "outputs": [],
   "source": [
    "# 10 points\n",
    "\n",
    "# # generate a sequence from the model until you get an end of sentence token\n",
    "# This is an example function header you might use\n",
    "# def generate_seq(model: Sequential, \n",
    "#                  tokenizer: Tokenizer, \n",
    "#                  seed: list):\n",
    "#     '''\n",
    "#     Parameters:\n",
    "#         model: your neural network\n",
    "#         tokenizer: the keras preprocessing tokenizer\n",
    "#         seed: [w1, w2, w(n-1)]\n",
    "#     Returns: string sentence\n",
    "#     '''\n",
    "#     pass\n",
    "\n"
   ]
  },
  {
   "cell_type": "code",
   "execution_count": null,
   "metadata": {},
   "outputs": [],
   "source": [
    "# 5 points\n",
    "\n",
    "# generate and display one sequence from both the word model and the character model\n",
    "# do not include <s> or </s> in your displayed sentences\n",
    "# make sure that you can read the output easily (i.e. don't just print out a list of tokens)\n",
    "\n",
    "# you may leave _ as _ or replace it with a space if you prefer"
   ]
  },
  {
   "cell_type": "code",
   "execution_count": null,
   "metadata": {},
   "outputs": [],
   "source": [
    "# generate 100 example sentences with each model and save them to a file, one sentence per line\n",
    "# do not include <s> and </s> in your saved sentences (you'll use these sentences in your next task)\n",
    "# this will produce two files, one for each model"
   ]
  },
  {
   "cell_type": "code",
   "execution_count": null,
   "metadata": {},
   "outputs": [],
   "source": []
  }
 ],
 "metadata": {
  "kernelspec": {
   "display_name": "Python 3",
   "language": "python",
   "name": "python3"
  },
  "language_info": {
   "codemirror_mode": {
    "name": "ipython",
    "version": 3
   },
   "file_extension": ".py",
   "mimetype": "text/x-python",
   "name": "python",
   "nbconvert_exporter": "python",
   "pygments_lexer": "ipython3",
   "version": "3.11.7"
  }
 },
 "nbformat": 4,
 "nbformat_minor": 2
}
